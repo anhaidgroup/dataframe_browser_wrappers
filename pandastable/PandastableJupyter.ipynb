{
 "cells": [
  {
   "cell_type": "code",
   "execution_count": 8,
   "metadata": {
    "collapsed": true
   },
   "outputs": [],
   "source": [
    "#Initial import\n",
    "from pandastable_wrapper import data_explore\n",
    "import pandas as pd"
   ]
  },
  {
   "cell_type": "code",
   "execution_count": 9,
   "metadata": {
    "collapsed": true
   },
   "outputs": [],
   "source": [
    "#read in pandas dataframe\n",
    "df = pd.read_csv(\"table.csv\")"
   ]
  },
  {
   "cell_type": "code",
   "execution_count": 10,
   "metadata": {},
   "outputs": [
    {
     "data": {
      "text/html": [
       "<div>\n",
       "<table border=\"1\" class=\"dataframe\">\n",
       "  <thead>\n",
       "    <tr style=\"text-align: right;\">\n",
       "      <th></th>\n",
       "      <th>b</th>\n",
       "      <th>a</th>\n",
       "      <th>c</th>\n",
       "      <th>d</th>\n",
       "      <th>e</th>\n",
       "      <th>label</th>\n",
       "      <th>date</th>\n",
       "    </tr>\n",
       "  </thead>\n",
       "  <tbody>\n",
       "    <tr>\n",
       "      <th>0</th>\n",
       "      <td>2.395</td>\n",
       "      <td>3.447</td>\n",
       "      <td>4.587</td>\n",
       "      <td>3.895</td>\n",
       "      <td>1.793</td>\n",
       "      <td>orange</td>\n",
       "      <td>2014-01-02 07:00:00</td>\n",
       "    </tr>\n",
       "    <tr>\n",
       "      <th>1</th>\n",
       "      <td>2.734</td>\n",
       "      <td>3.431</td>\n",
       "      <td>8.798</td>\n",
       "      <td>5.074</td>\n",
       "      <td>2.091</td>\n",
       "      <td>yellow</td>\n",
       "      <td>2014-01-01 08:00:00</td>\n",
       "    </tr>\n",
       "    <tr>\n",
       "      <th>2</th>\n",
       "      <td>2.424</td>\n",
       "      <td>3.365</td>\n",
       "      <td>5.941</td>\n",
       "      <td>5.268</td>\n",
       "      <td>2.241</td>\n",
       "      <td>yellow</td>\n",
       "      <td>2014-01-17 14:00:00</td>\n",
       "    </tr>\n",
       "    <tr>\n",
       "      <th>3</th>\n",
       "      <td>2.696</td>\n",
       "      <td>3.265</td>\n",
       "      <td>3.562</td>\n",
       "      <td>6.330</td>\n",
       "      <td>1.775</td>\n",
       "      <td>blue</td>\n",
       "      <td>2014-01-15 17:00:00</td>\n",
       "    </tr>\n",
       "    <tr>\n",
       "      <th>4</th>\n",
       "      <td>2.719</td>\n",
       "      <td>3.257</td>\n",
       "      <td>7.079</td>\n",
       "      <td>5.686</td>\n",
       "      <td>2.509</td>\n",
       "      <td>green</td>\n",
       "      <td>2014-01-08 19:00:00</td>\n",
       "    </tr>\n",
       "  </tbody>\n",
       "</table>\n",
       "</div>"
      ],
      "text/plain": [
       "       b      a      c      d      e   label                 date\n",
       "0  2.395  3.447  4.587  3.895  1.793  orange  2014-01-02 07:00:00\n",
       "1  2.734  3.431  8.798  5.074  2.091  yellow  2014-01-01 08:00:00\n",
       "2  2.424  3.365  5.941  5.268  2.241  yellow  2014-01-17 14:00:00\n",
       "3  2.696  3.265  3.562  6.330  1.775    blue  2014-01-15 17:00:00\n",
       "4  2.719  3.257  7.079  5.686  2.509   green  2014-01-08 19:00:00"
      ]
     },
     "execution_count": 10,
     "metadata": {},
     "output_type": "execute_result"
    }
   ],
   "source": [
    "#Overlook of the original dataframe\n",
    "df.head()"
   ]
  },
  {
   "cell_type": "code",
   "execution_count": 11,
   "metadata": {},
   "outputs": [
    {
     "data": {
      "text/plain": [
       "<pandastable_wrapper.data_explore at 0x7f9faff35668>"
      ]
     },
     "execution_count": 11,
     "metadata": {},
     "output_type": "execute_result"
    }
   ],
   "source": [
    "#Invoke the pandastable gui for data exploration\n",
    "#The process will be blocked until closing the GUI\n",
    "data_explore(df)"
   ]
  },
  {
   "cell_type": "code",
   "execution_count": 12,
   "metadata": {},
   "outputs": [
    {
     "data": {
      "text/html": [
       "<div>\n",
       "<table border=\"1\" class=\"dataframe\">\n",
       "  <thead>\n",
       "    <tr style=\"text-align: right;\">\n",
       "      <th></th>\n",
       "      <th>b</th>\n",
       "      <th>a</th>\n",
       "      <th>c</th>\n",
       "      <th>d</th>\n",
       "      <th>e</th>\n",
       "      <th>label</th>\n",
       "      <th>date</th>\n",
       "    </tr>\n",
       "  </thead>\n",
       "  <tbody>\n",
       "    <tr>\n",
       "      <th>0</th>\n",
       "      <td>2.395</td>\n",
       "      <td>3.447</td>\n",
       "      <td>4.587</td>\n",
       "      <td>3.895</td>\n",
       "      <td>1.793</td>\n",
       "      <td>orange</td>\n",
       "      <td>2014-01-02 07:00:00</td>\n",
       "    </tr>\n",
       "    <tr>\n",
       "      <th>1</th>\n",
       "      <td>2.734</td>\n",
       "      <td>3.431</td>\n",
       "      <td>8.798</td>\n",
       "      <td>5.074</td>\n",
       "      <td>2.091</td>\n",
       "      <td>yellow</td>\n",
       "      <td>2014-01-01 08:00:00</td>\n",
       "    </tr>\n",
       "    <tr>\n",
       "      <th>2</th>\n",
       "      <td>2.424</td>\n",
       "      <td>3.365</td>\n",
       "      <td>5.941</td>\n",
       "      <td>5.268</td>\n",
       "      <td>2.241</td>\n",
       "      <td>yellow</td>\n",
       "      <td>2014-01-17 14:00:00</td>\n",
       "    </tr>\n",
       "    <tr>\n",
       "      <th>3</th>\n",
       "      <td>2.696</td>\n",
       "      <td>3.265</td>\n",
       "      <td>3.562</td>\n",
       "      <td>6.330</td>\n",
       "      <td>1.775</td>\n",
       "      <td>blue</td>\n",
       "      <td>2014-01-15 17:00:00</td>\n",
       "    </tr>\n",
       "    <tr>\n",
       "      <th>4</th>\n",
       "      <td>2.719</td>\n",
       "      <td>3.257</td>\n",
       "      <td>7.079</td>\n",
       "      <td>5.686</td>\n",
       "      <td>2.509</td>\n",
       "      <td>green</td>\n",
       "      <td>2014-01-08 19:00:00</td>\n",
       "    </tr>\n",
       "  </tbody>\n",
       "</table>\n",
       "</div>"
      ],
      "text/plain": [
       "       b      a      c      d      e   label                 date\n",
       "0  2.395  3.447  4.587  3.895  1.793  orange  2014-01-02 07:00:00\n",
       "1  2.734  3.431  8.798  5.074  2.091  yellow  2014-01-01 08:00:00\n",
       "2  2.424  3.365  5.941  5.268  2.241  yellow  2014-01-17 14:00:00\n",
       "3  2.696  3.265  3.562  6.330  1.775    blue  2014-01-15 17:00:00\n",
       "4  2.719  3.257  7.079  5.686  2.509   green  2014-01-08 19:00:00"
      ]
     },
     "execution_count": 12,
     "metadata": {},
     "output_type": "execute_result"
    }
   ],
   "source": [
    "#The dataframe after my exploration\n",
    "df.head()"
   ]
  }
 ],
 "metadata": {
  "kernelspec": {
   "display_name": "Python 3",
   "language": "python",
   "name": "python3"
  },
  "language_info": {
   "codemirror_mode": {
    "name": "ipython",
    "version": 3
   },
   "file_extension": ".py",
   "mimetype": "text/x-python",
   "name": "python",
   "nbconvert_exporter": "python",
   "pygments_lexer": "ipython3",
   "version": "3.4.3"
  }
 },
 "nbformat": 4,
 "nbformat_minor": 2
}
