{
 "cells": [
  {
   "cell_type": "code",
   "execution_count": 7,
   "metadata": {
    "collapsed": true
   },
   "outputs": [],
   "source": [
    "#Initial import\n",
    "from open_refine_wrapper import data_explore\n",
    "import pandas as pd\n"
   ]
  },
  {
   "cell_type": "code",
   "execution_count": 8,
   "metadata": {
    "collapsed": true
   },
   "outputs": [],
   "source": [
    "#read in pandas dataframe\n",
    "df = pd.read_csv('Personal Information.csv')"
   ]
  },
  {
   "cell_type": "code",
   "execution_count": 9,
   "metadata": {
    "collapsed": false
   },
   "outputs": [
    {
     "data": {
      "text/html": [
       "<div>\n",
       "<table border=\"1\" class=\"dataframe\">\n",
       "  <thead>\n",
       "    <tr style=\"text-align: right;\">\n",
       "      <th></th>\n",
       "      <th>id</th>\n",
       "      <th>first_name</th>\n",
       "      <th>last_name</th>\n",
       "      <th>Age</th>\n",
       "      <th>Gender</th>\n",
       "      <th>Income</th>\n",
       "      <th>State</th>\n",
       "    </tr>\n",
       "  </thead>\n",
       "  <tbody>\n",
       "    <tr>\n",
       "      <th>0</th>\n",
       "      <td>1</td>\n",
       "      <td>Jean</td>\n",
       "      <td>Schmidt</td>\n",
       "      <td>19</td>\n",
       "      <td>Female</td>\n",
       "      <td>25000-49999</td>\n",
       "      <td>PA</td>\n",
       "    </tr>\n",
       "    <tr>\n",
       "      <th>1</th>\n",
       "      <td>2</td>\n",
       "      <td>Larry</td>\n",
       "      <td>Bishop</td>\n",
       "      <td>21</td>\n",
       "      <td>Male</td>\n",
       "      <td>50000-99999</td>\n",
       "      <td>OR</td>\n",
       "    </tr>\n",
       "    <tr>\n",
       "      <th>2</th>\n",
       "      <td>3</td>\n",
       "      <td>George</td>\n",
       "      <td>Flores</td>\n",
       "      <td>51</td>\n",
       "      <td>Male</td>\n",
       "      <td>50000-99999</td>\n",
       "      <td>NE</td>\n",
       "    </tr>\n",
       "    <tr>\n",
       "      <th>3</th>\n",
       "      <td>4</td>\n",
       "      <td>George</td>\n",
       "      <td>Lewis</td>\n",
       "      <td>55</td>\n",
       "      <td>Male</td>\n",
       "      <td>50000-99999</td>\n",
       "      <td>MO</td>\n",
       "    </tr>\n",
       "    <tr>\n",
       "      <th>4</th>\n",
       "      <td>5</td>\n",
       "      <td>Christine</td>\n",
       "      <td>Berry</td>\n",
       "      <td>56</td>\n",
       "      <td>Female</td>\n",
       "      <td>25000-49999</td>\n",
       "      <td>NC</td>\n",
       "    </tr>\n",
       "  </tbody>\n",
       "</table>\n",
       "</div>"
      ],
      "text/plain": [
       "   id first_name last_name  Age  Gender       Income State\n",
       "0   1       Jean   Schmidt   19  Female  25000-49999    PA\n",
       "1   2      Larry    Bishop   21    Male  50000-99999    OR\n",
       "2   3     George    Flores   51    Male  50000-99999    NE\n",
       "3   4     George     Lewis   55    Male  50000-99999    MO\n",
       "4   5  Christine     Berry   56  Female  25000-49999    NC"
      ]
     },
     "execution_count": 9,
     "metadata": {},
     "output_type": "execute_result"
    }
   ],
   "source": [
    "#Overlook of the original dataframe\n",
    "df.head()"
   ]
  },
  {
   "cell_type": "code",
   "execution_count": 10,
   "metadata": {
    "collapsed": false
   },
   "outputs": [],
   "source": [
    "#Invoke the open refine gui for data exploration\n",
    "p = data_explore(df,\"http://127.0.0.1:3333/\")"
   ]
  },
  {
   "cell_type": "code",
   "execution_count": 11,
   "metadata": {
    "collapsed": false
   },
   "outputs": [],
   "source": [
    "#Save the project back to our dataframe\n",
    "df = p.export_pandas_frame()\n"
   ]
  },
  {
   "cell_type": "code",
   "execution_count": 12,
   "metadata": {
    "collapsed": false
   },
   "outputs": [
    {
     "data": {
      "text/html": [
       "<div>\n",
       "<table border=\"1\" class=\"dataframe\">\n",
       "  <thead>\n",
       "    <tr style=\"text-align: right;\">\n",
       "      <th></th>\n",
       "      <th>Column</th>\n",
       "      <th>id</th>\n",
       "      <th>first_name</th>\n",
       "      <th>last_name</th>\n",
       "      <th>Age</th>\n",
       "      <th>Gender</th>\n",
       "      <th>Income</th>\n",
       "      <th>State</th>\n",
       "    </tr>\n",
       "  </thead>\n",
       "  <tbody>\n",
       "    <tr>\n",
       "      <th>0</th>\n",
       "      <td>0</td>\n",
       "      <td>1</td>\n",
       "      <td>THIS IS</td>\n",
       "      <td>CHANGED!!</td>\n",
       "      <td>19</td>\n",
       "      <td>Female</td>\n",
       "      <td>25000-49999</td>\n",
       "      <td>PA</td>\n",
       "    </tr>\n",
       "    <tr>\n",
       "      <th>1</th>\n",
       "      <td>1</td>\n",
       "      <td>2</td>\n",
       "      <td>Larry</td>\n",
       "      <td>Bishop</td>\n",
       "      <td>21</td>\n",
       "      <td>Male</td>\n",
       "      <td>50000-99999</td>\n",
       "      <td>OR</td>\n",
       "    </tr>\n",
       "    <tr>\n",
       "      <th>2</th>\n",
       "      <td>2</td>\n",
       "      <td>3</td>\n",
       "      <td>George</td>\n",
       "      <td>Flores</td>\n",
       "      <td>51</td>\n",
       "      <td>Male</td>\n",
       "      <td>50000-99999</td>\n",
       "      <td>NE</td>\n",
       "    </tr>\n",
       "    <tr>\n",
       "      <th>3</th>\n",
       "      <td>3</td>\n",
       "      <td>4</td>\n",
       "      <td>George</td>\n",
       "      <td>Lewis</td>\n",
       "      <td>55</td>\n",
       "      <td>Male</td>\n",
       "      <td>50000-99999</td>\n",
       "      <td>MO</td>\n",
       "    </tr>\n",
       "    <tr>\n",
       "      <th>4</th>\n",
       "      <td>4</td>\n",
       "      <td>5</td>\n",
       "      <td>Christine</td>\n",
       "      <td>Berry</td>\n",
       "      <td>56</td>\n",
       "      <td>Female</td>\n",
       "      <td>25000-49999</td>\n",
       "      <td>NC</td>\n",
       "    </tr>\n",
       "  </tbody>\n",
       "</table>\n",
       "</div>"
      ],
      "text/plain": [
       "   Column  id first_name  last_name  Age  Gender       Income State\n",
       "0       0   1    THIS IS  CHANGED!!   19  Female  25000-49999    PA\n",
       "1       1   2      Larry     Bishop   21    Male  50000-99999    OR\n",
       "2       2   3     George     Flores   51    Male  50000-99999    NE\n",
       "3       3   4     George      Lewis   55    Male  50000-99999    MO\n",
       "4       4   5  Christine      Berry   56  Female  25000-49999    NC"
      ]
     },
     "execution_count": 12,
     "metadata": {},
     "output_type": "execute_result"
    }
   ],
   "source": [
    "#The dataframe after my exploration\n",
    "df.head()"
   ]
  },
  {
   "cell_type": "code",
   "execution_count": null,
   "metadata": {
    "collapsed": true
   },
   "outputs": [],
   "source": []
  }
 ],
 "metadata": {
  "kernelspec": {
   "display_name": "Python 3",
   "language": "python",
   "name": "python3"
  },
  "language_info": {
   "codemirror_mode": {
    "name": "ipython",
    "version": 3
   },
   "file_extension": ".py",
   "mimetype": "text/x-python",
   "name": "python",
   "nbconvert_exporter": "python",
   "pygments_lexer": "ipython3",
   "version": "3.6.0"
  }
 },
 "nbformat": 4,
 "nbformat_minor": 2
}
